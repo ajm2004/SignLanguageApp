{
 "cells": [
  {
   "cell_type": "code",
   "execution_count": 1,
   "metadata": {},
   "outputs": [
    {
     "name": "stdout",
     "output_type": "stream",
     "text": [
      "Datasets merged into: C:\\Users\\User\\OneDrive\\Documents\\SignLanguageApp\\SLangDataset\\mergedData\n"
     ]
    }
   ],
   "source": [
    "import os\n",
    "import shutil\n",
    "\n",
    "# Define paths to the two datasets\n",
    "dataset1 = r\"C:\\Users\\User\\OneDrive\\Documents\\SignLanguageApp\\SLangDataset\\data\"\n",
    "dataset2 = r\"C:\\Users\\User\\OneDrive\\Documents\\SignLanguageApp\\SLangDataset\\augmentedData\"\n",
    "output_dataset = r\"C:\\Users\\User\\OneDrive\\Documents\\SignLanguageApp\\SLangDataset\\mergedData\"\n",
    "\n",
    "# Create the output directory if it doesn't exist\n",
    "os.makedirs(output_dataset, exist_ok=True)\n",
    "\n",
    "# Function to merge datasets with renaming for augmented files\n",
    "def merge_datasets(source_dir, target_dir, augmented=False):\n",
    "    for class_name in os.listdir(source_dir):\n",
    "        source_class_path = os.path.join(source_dir, class_name)\n",
    "        target_class_path = os.path.join(target_dir, class_name)\n",
    "        \n",
    "        if os.path.isdir(source_class_path):\n",
    "            # Create the class folder in the target if it doesn't exist\n",
    "            if not os.path.exists(target_class_path):\n",
    "                os.makedirs(target_class_path)\n",
    "            \n",
    "            for file_name in os.listdir(source_class_path):\n",
    "                source_file_path = os.path.join(source_class_path, file_name)\n",
    "                # Add \"_AUG\" to files from the augmented dataset\n",
    "                if augmented:\n",
    "                    base_name, ext = os.path.splitext(file_name)\n",
    "                    file_name = f\"{base_name}_AUG{ext}\"\n",
    "                target_file_path = os.path.join(target_class_path, file_name)\n",
    "                \n",
    "                # Copy the file to the target directory\n",
    "                shutil.copy2(source_file_path, target_file_path)\n",
    "\n",
    "# Merge the main dataset\n",
    "merge_datasets(dataset1, output_dataset)\n",
    "\n",
    "# Merge the augmented dataset with renaming\n",
    "merge_datasets(dataset2, output_dataset, augmented=True)\n",
    "\n",
    "print(f\"Datasets merged into: {output_dataset}\")\n"
   ]
  },
  {
   "cell_type": "code",
   "execution_count": 1,
   "metadata": {},
   "outputs": [
    {
     "name": "stdout",
     "output_type": "stream",
     "text": [
      "Datasets merged into: C:\\Users\\User\\OneDrive\\Documents\\SignLanguageApp\\SLangDataset\\merged_data_est\n"
     ]
    }
   ],
   "source": [
    "import os\n",
    "import shutil\n",
    "\n",
    "# Define paths to the datasets\n",
    "# dataset1 = r\"C:\\Users\\User\\OneDrive\\Documents\\SignLanguageApp\\SLangDataset\\data\"\n",
    "# dataset2 = r\"C:\\Users\\User\\OneDrive\\Documents\\SignLanguageApp\\SLangDataset\\augmentedData\"\n",
    "# dataset3 = r\"C:\\Users\\User\\OneDrive\\Documents\\SignLanguageApp\\SLangDataset\\augmentedData2\"\n",
    "# own_data = r\"C:\\Users\\User\\OneDrive\\Documents\\SignLanguageApp\\SLangDataset\\ownData\\training\"\n",
    "# test_data = r\"C:\\Users\\User\\OneDrive\\Documents\\SignLanguageApp\\SLangDataset\\testData\"\n",
    "# output_dataset = r\"C:\\Users\\User\\OneDrive\\Documents\\SignLanguageApp\\SLangDataset\\mergedData\"\n",
    "\n",
    "dataset1 = r\"C:\\Users\\User\\OneDrive\\Documents\\SignLanguageApp\\SLangDataset\\data_est\"\n",
    "dataset2 = r\"C:\\Users\\User\\OneDrive\\Documents\\SignLanguageApp\\SLangDataset\\aug_data_est\"\n",
    "output_dataset = r\"C:\\Users\\User\\OneDrive\\Documents\\SignLanguageApp\\SLangDataset\\merged_data_est\"\n",
    "\n",
    "# Create the output directory if it doesn't exist\n",
    "os.makedirs(output_dataset, exist_ok=True)\n",
    "\n",
    "# Function to merge datasets with renaming\n",
    "def merge_datasets(source_dir, target_dir, suffix=\"\"):\n",
    "    for class_name in os.listdir(source_dir):\n",
    "        source_class_path = os.path.join(source_dir, class_name)\n",
    "        target_class_path = os.path.join(target_dir, class_name)\n",
    "        \n",
    "        if os.path.isdir(source_class_path):\n",
    "            # Create the class folder in the target if it doesn't exist\n",
    "            if not os.path.exists(target_class_path):\n",
    "                os.makedirs(target_class_path)\n",
    "            \n",
    "            for file_name in os.listdir(source_class_path):\n",
    "                source_file_path = os.path.join(source_class_path, file_name)\n",
    "                # Add the specified suffix to the file name\n",
    "                base_name, ext = os.path.splitext(file_name)\n",
    "                file_name = f\"{base_name}{suffix}{ext}\"\n",
    "                target_file_path = os.path.join(target_class_path, file_name)\n",
    "                \n",
    "                # Copy the file to the target directory\n",
    "                shutil.copy2(source_file_path, target_file_path)\n",
    "\n",
    "# Merge the main dataset\n",
    "merge_datasets(dataset1, output_dataset)\n",
    "\n",
    "# Merge the augmented dataset with \"_AUG\" renaming\n",
    "merge_datasets(dataset2, output_dataset, suffix=\"_AUG\")\n",
    "\n",
    "# # Merge the augmented dataset with \"_AUG\" renaming\n",
    "# merge_datasets(dataset3, output_dataset, suffix=\"_AUG2\")\n",
    "\n",
    "# # Merge the ownData dataset with \"_OWN\" renaming\n",
    "# merge_datasets(own_data, output_dataset, suffix=\"_OWN\")\n",
    "\n",
    "# # Merge the testData dataset with \"_TEST\" renaming\n",
    "# merge_datasets(test_data, output_dataset, suffix=\"_TEST\")\n",
    "\n",
    "print(f\"Datasets merged into: {output_dataset}\")"
   ]
  }
 ],
 "metadata": {
  "kernelspec": {
   "display_name": "tensorflow_env",
   "language": "python",
   "name": "python3"
  },
  "language_info": {
   "codemirror_mode": {
    "name": "ipython",
    "version": 3
   },
   "file_extension": ".py",
   "mimetype": "text/x-python",
   "name": "python",
   "nbconvert_exporter": "python",
   "pygments_lexer": "ipython3",
   "version": "3.8.20"
  }
 },
 "nbformat": 4,
 "nbformat_minor": 2
}
