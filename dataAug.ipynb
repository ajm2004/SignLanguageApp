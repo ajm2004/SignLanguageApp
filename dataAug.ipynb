{
 "cells": [
  {
   "cell_type": "markdown",
   "metadata": {},
   "source": [
    "## Data Augmentation"
   ]
  },
  {
   "cell_type": "code",
   "execution_count": 2,
   "metadata": {},
   "outputs": [],
   "source": [
    "import os\n",
    "import random\n",
    "from PIL import Image, ImageEnhance, ImageOps\n",
    "import numpy as np"
   ]
  },
  {
   "cell_type": "code",
   "execution_count": 3,
   "metadata": {},
   "outputs": [],
   "source": [
    "# Define augmentation functions\n",
    "def random_rotation(image):\n",
    "    angle = random.uniform(-20, 20)  # Rotate between -30 to 30 degrees\n",
    "    return image.rotate(angle)\n",
    "\n",
    "def random_flip(image):\n",
    "    if random.choice([True, False]):\n",
    "        return ImageOps.mirror(image)\n",
    "    return image\n",
    "\n",
    "def random_brightness(image):\n",
    "    enhancer = ImageEnhance.Brightness(image)\n",
    "    factor = random.uniform(0.7, 1.3)  # Brightness factor\n",
    "    return enhancer.enhance(factor)\n",
    "\n",
    "def random_contrast(image):\n",
    "    enhancer = ImageEnhance.Contrast(image)\n",
    "    factor = random.uniform(0.7, 1.3)  # Contrast factor\n",
    "    return enhancer.enhance(factor)\n",
    "\n",
    "def add_random_noise(image):\n",
    "    np_image = np.array(image)\n",
    "    noise = np.random.normal(0, 25, np_image.shape).astype(np.int16)\n",
    "    noisy_image = np.clip(np_image + noise, 0, 255).astype(np.uint8)\n",
    "    return Image.fromarray(noisy_image)\n",
    "\n",
    "def augment_image(image):\n",
    "    image = random_rotation(image)\n",
    "    image = random_flip(image)\n",
    "    # image = random_brightness(image)\n",
    "    # image = random_contrast(image)\n",
    "    # image = add_random_noise(image)\n",
    "    return image\n"
   ]
  },
  {
   "cell_type": "code",
   "execution_count": 4,
   "metadata": {},
   "outputs": [],
   "source": [
    "input_folder = \"C:/Users/User/OneDrive/Documents/SignLanguageApp/SLangDataset/new_Blmark_data\"\n",
    "output_folder = \"C:/Users/User/OneDrive/Documents/SignLanguageApp/SLangDataset/new_Blmark_data_augmented\"\n",
    "os.makedirs(output_folder, exist_ok=True)"
   ]
  },
  {
   "cell_type": "code",
   "execution_count": 5,
   "metadata": {},
   "outputs": [
    {
     "name": "stdout",
     "output_type": "stream",
     "text": [
      "Data augmentation completed!\n"
     ]
    }
   ],
   "source": [
    "# Iterate over all subfolders and images\n",
    "for subdir, _, files in os.walk(input_folder):\n",
    "    relative_path = os.path.relpath(subdir, input_folder)\n",
    "    output_subdir = os.path.join(output_folder, relative_path)\n",
    "    os.makedirs(output_subdir, exist_ok=True)\n",
    "\n",
    "    for file in files:\n",
    "        if file.lower().endswith(('png', 'jpg', 'jpeg', 'bmp', 'tiff')):\n",
    "            input_path = os.path.join(subdir, file)\n",
    "            output_path = os.path.join(output_subdir, file)\n",
    "\n",
    "            try:\n",
    "                with Image.open(input_path) as img:\n",
    "                    img = img.convert(\"L\")  # Ensure greyscale (black and white)\n",
    "                    augmented_img = augment_image(img)\n",
    "                    augmented_img.save(output_path)\n",
    "            except Exception as e:\n",
    "                print(f\"Error processing {input_path}: {e}\")\n",
    "\n",
    "print(\"Data augmentation completed!\")\n"
   ]
  },
  {
   "cell_type": "markdown",
   "metadata": {},
   "source": [
    "## Joining Augmented Data with Original Data"
   ]
  },
  {
   "cell_type": "code",
   "execution_count": 6,
   "metadata": {},
   "outputs": [
    {
     "name": "stdout",
     "output_type": "stream",
     "text": [
      "Datasets merged into: C:\\Users\\User\\OneDrive\\Documents\\SignLanguageApp\\SLangDataset\\new_Blmark_data_combined\n"
     ]
    }
   ],
   "source": [
    "import os\n",
    "import shutil\n",
    "\n",
    "dataset1 = r\"C:\\Users\\User\\OneDrive\\Documents\\SignLanguageApp\\SLangDataset\\new_Blmark_data\"\n",
    "dataset2 = r\"C:\\Users\\User\\OneDrive\\Documents\\SignLanguageApp\\SLangDataset\\new_Blmark_data_augmented\"\n",
    "output_dataset = r\"C:\\Users\\User\\OneDrive\\Documents\\SignLanguageApp\\SLangDataset\\new_Blmark_data_combined\"\n",
    "\n",
    "# Create the output directory if it doesn't exist\n",
    "os.makedirs(output_dataset, exist_ok=True)\n",
    "\n",
    "# Function to merge datasets with renaming\n",
    "def merge_datasets(source_dir, target_dir, suffix=\"\"):\n",
    "    for class_name in os.listdir(source_dir):\n",
    "        source_class_path = os.path.join(source_dir, class_name)\n",
    "        target_class_path = os.path.join(target_dir, class_name)\n",
    "        \n",
    "        if os.path.isdir(source_class_path):\n",
    "            # Create the class folder in the target if it doesn't exist\n",
    "            if not os.path.exists(target_class_path):\n",
    "                os.makedirs(target_class_path)\n",
    "            \n",
    "            for file_name in os.listdir(source_class_path):\n",
    "                source_file_path = os.path.join(source_class_path, file_name)\n",
    "                # Add the specified suffix to the file name\n",
    "                base_name, ext = os.path.splitext(file_name)\n",
    "                file_name = f\"{base_name}{suffix}{ext}\"\n",
    "                target_file_path = os.path.join(target_class_path, file_name)\n",
    "                \n",
    "                # Copy the file to the target directory\n",
    "                shutil.copy2(source_file_path, target_file_path)\n",
    "\n",
    "# Merge the main dataset\n",
    "merge_datasets(dataset1, output_dataset)\n",
    "\n",
    "# Merge the augmented dataset with \"_AUG\" renaming\n",
    "merge_datasets(dataset2, output_dataset, suffix=\"_AUG\")\n",
    "\n",
    "\n",
    "print(f\"Datasets merged into: {output_dataset}\")"
   ]
  },
  {
   "cell_type": "markdown",
   "metadata": {},
   "source": [
    "### Run Trainer3.py for training the new data. Run to open UI."
   ]
  },
  {
   "cell_type": "code",
   "execution_count": 1,
   "metadata": {},
   "outputs": [
    {
     "name": "stdout",
     "output_type": "stream",
     "text": [
      "Num GPUs Available: 1\n"
     ]
    }
   ],
   "source": [
    "import tensorflow as tf\n",
    "print(\"Num GPUs Available:\", len(tf.config.list_physical_devices('GPU')))"
   ]
  }
 ],
 "metadata": {
  "kernelspec": {
   "display_name": "tensorflow_env",
   "language": "python",
   "name": "python3"
  },
  "language_info": {
   "codemirror_mode": {
    "name": "ipython",
    "version": 3
   },
   "file_extension": ".py",
   "mimetype": "text/x-python",
   "name": "python",
   "nbconvert_exporter": "python",
   "pygments_lexer": "ipython3",
   "version": "3.8.20"
  }
 },
 "nbformat": 4,
 "nbformat_minor": 2
}
